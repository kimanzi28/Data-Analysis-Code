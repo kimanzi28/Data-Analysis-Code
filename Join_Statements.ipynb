{
  "nbformat": 4,
  "nbformat_minor": 0,
  "metadata": {
    "colab": {
      "provenance": [],
      "toc_visible": true,
      "include_colab_link": true
    },
    "kernelspec": {
      "name": "python3",
      "display_name": "Python 3"
    },
    "language_info": {
      "name": "python"
    }
  },
  "cells": [
    {
      "cell_type": "markdown",
      "metadata": {
        "id": "view-in-github",
        "colab_type": "text"
      },
      "source": [
        "<a href=\"https://colab.research.google.com/github/kimanzi28/Data-Analysis-Code/blob/main/Join_Statements.ipynb\" target=\"_parent\"><img src=\"https://colab.research.google.com/assets/colab-badge.svg\" alt=\"Open In Colab\"/></a>"
      ]
    },
    {
      "cell_type": "markdown",
      "metadata": {
        "id": "iHn_rVx9AQbH"
      },
      "source": [
        "<font color=\"green\">*To start working on this notebook, or any other notebook that we will use in this Course, we will need to save our own copy of it. We can do this by clicking File > Save a Copy in Drive. We will then be able to make edits to our own copy of this notebook.*</font>"
      ]
    },
    {
      "cell_type": "markdown",
      "source": [
        "## **Introduction**\n",
        "\n",
        "\n",
        "---\n",
        "\n"
      ],
      "metadata": {
        "id": "aLrXTEjOs8qg"
      }
    },
    {
      "cell_type": "markdown",
      "source": [
        "\n",
        "In this section, you will learn about several types of `JOIN` statements.  Joins are the primary mechanism for combining data from multiple tables. In order to do this, you define the common attribute(s) between tables in order for them to be combined.\n"
      ],
      "metadata": {
        "id": "jT5T1HAJFUVz"
      }
    },
    {
      "cell_type": "markdown",
      "source": [
        "## **Objectives**\n",
        "\n",
        "\n"
      ],
      "metadata": {
        "id": "NvRm8oxBtlYm"
      }
    },
    {
      "cell_type": "markdown",
      "source": [
        "You will be able to:  \n",
        "\n",
        "* Write SQL queries that make use of various types of joins\n",
        "* Compare and contrast the various types of joins\n",
        "* Discuss how primary and foreign keys are used in SQL\n",
        "* Decide and perform whichever type of join is best for retrieving desired data"
      ],
      "metadata": {
        "id": "9plxqJ_jFa9y"
      }
    },
    {
      "cell_type": "markdown",
      "source": [
        "## **Data**"
      ],
      "metadata": {
        "id": "bdpi_1Rqt_Om"
      }
    },
    {
      "cell_type": "markdown",
      "source": [
        "In almost all industry cases, rather than just working with a single table you will generally need data from multiple tables. Doing this requires the use of **joins** using shared columns from the two tables. For example, here's a diagram of a mock customer relationship management (CRM) database.\n",
        "<img src='https://curriculum-content.s3.amazonaws.com/data-science/images/Database-Schema.png' width=550>"
      ],
      "metadata": {
        "id": "XjC5XTW0Fpno"
      }
    },
    {
      "cell_type": "markdown",
      "source": [
        "## **Connecting to the Database**"
      ],
      "metadata": {
        "id": "97lb1sAnFt9D"
      }
    },
    {
      "cell_type": "code",
      "source": [
        "# We will first load the sql extension into our environment\n",
        "#\n",
        "%load_ext sql\n",
        "\n",
        "# Then connect to our in memory sqlite database\n",
        "# NB: This database will cease to exist as soon as the database connection is closed\n",
        "#\n",
        "%sql sqlite://///content/drive/MyDrive/db/data.sqlite"
      ],
      "metadata": {
        "id": "_PyqACUrubkf"
      },
      "execution_count": null,
      "outputs": []
    },
    {
      "cell_type": "markdown",
      "source": [],
      "metadata": {
        "id": "4u31O43gZZup"
      }
    },
    {
      "cell_type": "markdown",
      "source": [
        "## **Displaying Product Details Along with Order Details**"
      ],
      "metadata": {
        "id": "2kQEaZcgGP1T"
      }
    },
    {
      "cell_type": "markdown",
      "source": [
        "Let's say you need to generate a report that includes details about products from orders. To do that, we would need to take data from multiple tables in a single statement. To do this we will use `JOIN`."
      ],
      "metadata": {
        "id": "X0zloGuJGSjU"
      }
    },
    {
      "cell_type": "code",
      "source": [
        "%%sql\n",
        "SELECT *\n",
        "  FROM orderdetails\n",
        "       JOIN products\n",
        "       ON orderdetails.productCode = products.productCode\n",
        "       LIMIT 10;"
      ],
      "metadata": {
        "colab": {
          "base_uri": "https://localhost:8080/",
          "height": 1000
        },
        "collapsed": true,
        "id": "exteIj_KGhiB",
        "outputId": "55f1ecaa-a488-464d-8903-2f82439b5fbe"
      },
      "execution_count": null,
      "outputs": [
        {
          "output_type": "stream",
          "name": "stdout",
          "text": [
            " * sqlite://///content/drive/MyDrive/db/My_database.sqlite\n",
            "Done.\n"
          ]
        },
        {
          "output_type": "execute_result",
          "data": {
            "text/plain": [
              "[('10100', 'S18_1749', '30', '136.00', '3', 'S18_1749', '1917 Grand Touring Sedan', 'Vintage Cars', '1:18', 'Welly Diecast Productions', 'This 1:18 scale replica of the 1917 Grand Touring car has all the features you would expect from museum quality reproductions: all four doors and bi-fold hood opening, detailed engine and instrument panel, chrome-look trim, and tufted upholstery, all topped off with a factory baked-enamel finish.', '2724', '86.70', '170.00'),\n",
              " ('10100', 'S18_2248', '50', '55.09', '2', 'S18_2248', '1911 Ford Town Car', 'Vintage Cars', '1:18', 'Motor City Art Classics', 'Features opening hood, opening doors, opening trunk, wide white wall tires, front door arm rests, working steering system.', '540', '33.30', '60.54'),\n",
              " ('10100', 'S18_4409', '22', '75.46', '4', 'S18_4409', '1932 Alfa Romeo 8C2300 Spider Sport', 'Vintage Cars', '1:18', 'Exoto Designs', 'This 1:18 scale precision die cast replica features the 6 front headlights of the original, plus a detailed version of the 142 horsepower straight 8 engine, dual spares and their famous comprehensive dashboard. Color black.', '6553', '43.26', '92.03'),\n",
              " ('10100', 'S24_3969', '49', '35.29', '1', 'S24_3969', '1936 Mercedes Benz 500k Roadster', 'Vintage Cars', '1:24', 'Red Start Diecast', 'This model features grille-mounted chrome horn, lift-up louvered hood, fold-down rumble seat, working steering system and rubber wheels. Color black.', '2081', '21.75', '41.03'),\n",
              " ('10101', 'S18_2325', '25', '108.06', '4', 'S18_2325', '1932 Model A Ford J-Coupe', 'Vintage Cars', '1:18', 'Autoart Studio Design', 'This model features grille-mounted chrome horn, lift-up louvered hood, fold-down rumble seat, working steering system, chrome-covered spare, opening doors, detailed and wired engine', '9354', '58.48', '127.13'),\n",
              " ('10101', 'S18_2795', '26', '167.06', '1', 'S18_2795', '1928 Mercedes-Benz SSK', 'Vintage Cars', '1:18', 'Gearbox Collectibles', 'This 1:18 replica features grille-mounted chrome horn, lift-up louvered hood, fold-down rumble seat, working steering system, chrome-covered spare, opening doors, detailed and wired engine. Color black.', '548', '72.56', '168.75'),\n",
              " ('10101', 'S24_1937', '45', '32.53', '3', 'S24_1937', '1939 Chevrolet Deluxe Coupe', 'Vintage Cars', '1:24', 'Motor City Art Classics', 'This 1:24 scale die-cast replica of the 1939 Chevrolet Deluxe Coupe has the same classy look as the original. Features opening trunk, hood and doors and a showroom quality baked enamel finish.', '7332', '22.57', '33.19'),\n",
              " ('10101', 'S24_2022', '46', '44.35', '2', 'S24_2022', '1938 Cadillac V-16 Presidential Limousine', 'Vintage Cars', '1:24', 'Classic Metal Creations', 'This 1:24 scale precision die cast replica of the 1938 Cadillac V-16 Presidential Limousine has all the details of the original, from the flags on th ... (16 characters truncated) ... ening back seat compartment complete with telephone and rifle. Features factory baked-enamel black finish, hood goddess ornament, working jump seats.', '2847', '20.61', '44.80'),\n",
              " ('10102', 'S18_1342', '39', '95.55', '2', 'S18_1342', '1937 Lincoln Berline', 'Vintage Cars', '1:18', 'Motor City Art Classics', 'Features opening engine cover, doors, trunk, and fuel filler cap. Color black', '8693', '60.62', '102.74'),\n",
              " ('10102', 'S18_1367', '41', '43.13', '1', 'S18_1367', '1936 Mercedes-Benz 500K Special Roadster', 'Vintage Cars', '1:18', 'Studio M Art Models', 'This 1:18 scale replica is constructed of heavy die-cast metal and has all the features of the original: working doors and rumble seat, independent s ... (63 characters truncated) ... nd a bifold hood that reveals an engine so accurate that it even includes the wiring. All this is topped off with a baked enamel finish. Color white.', '8635', '24.26', '53.91')]"
            ],
            "text/html": [
              "<table>\n",
              "    <thead>\n",
              "        <tr>\n",
              "            <th>orderNumber</th>\n",
              "            <th>productCode</th>\n",
              "            <th>quantityOrdered</th>\n",
              "            <th>priceEach</th>\n",
              "            <th>orderLineNumber</th>\n",
              "            <th>productCode_1</th>\n",
              "            <th>productName</th>\n",
              "            <th>productLine</th>\n",
              "            <th>productScale</th>\n",
              "            <th>productVendor</th>\n",
              "            <th>productDescription</th>\n",
              "            <th>quantityInStock</th>\n",
              "            <th>buyPrice</th>\n",
              "            <th>MSRP</th>\n",
              "        </tr>\n",
              "    </thead>\n",
              "    <tbody>\n",
              "        <tr>\n",
              "            <td>10100</td>\n",
              "            <td>S18_1749</td>\n",
              "            <td>30</td>\n",
              "            <td>136.00</td>\n",
              "            <td>3</td>\n",
              "            <td>S18_1749</td>\n",
              "            <td>1917 Grand Touring Sedan</td>\n",
              "            <td>Vintage Cars</td>\n",
              "            <td>1:18</td>\n",
              "            <td>Welly Diecast Productions</td>\n",
              "            <td>This 1:18 scale replica of the 1917 Grand Touring car has all the features you would expect from museum quality reproductions: all four doors and bi-fold hood opening, detailed engine and instrument panel, chrome-look trim, and tufted upholstery, all topped off with a factory baked-enamel finish.</td>\n",
              "            <td>2724</td>\n",
              "            <td>86.70</td>\n",
              "            <td>170.00</td>\n",
              "        </tr>\n",
              "        <tr>\n",
              "            <td>10100</td>\n",
              "            <td>S18_2248</td>\n",
              "            <td>50</td>\n",
              "            <td>55.09</td>\n",
              "            <td>2</td>\n",
              "            <td>S18_2248</td>\n",
              "            <td>1911 Ford Town Car</td>\n",
              "            <td>Vintage Cars</td>\n",
              "            <td>1:18</td>\n",
              "            <td>Motor City Art Classics</td>\n",
              "            <td>Features opening hood, opening doors, opening trunk, wide white wall tires, front door arm rests, working steering system.</td>\n",
              "            <td>540</td>\n",
              "            <td>33.30</td>\n",
              "            <td>60.54</td>\n",
              "        </tr>\n",
              "        <tr>\n",
              "            <td>10100</td>\n",
              "            <td>S18_4409</td>\n",
              "            <td>22</td>\n",
              "            <td>75.46</td>\n",
              "            <td>4</td>\n",
              "            <td>S18_4409</td>\n",
              "            <td>1932 Alfa Romeo 8C2300 Spider Sport</td>\n",
              "            <td>Vintage Cars</td>\n",
              "            <td>1:18</td>\n",
              "            <td>Exoto Designs</td>\n",
              "            <td>This 1:18 scale precision die cast replica features the 6 front headlights of the original, plus a detailed version of the 142 horsepower straight 8 engine, dual spares and their famous comprehensive dashboard. Color black.</td>\n",
              "            <td>6553</td>\n",
              "            <td>43.26</td>\n",
              "            <td>92.03</td>\n",
              "        </tr>\n",
              "        <tr>\n",
              "            <td>10100</td>\n",
              "            <td>S24_3969</td>\n",
              "            <td>49</td>\n",
              "            <td>35.29</td>\n",
              "            <td>1</td>\n",
              "            <td>S24_3969</td>\n",
              "            <td>1936 Mercedes Benz 500k Roadster</td>\n",
              "            <td>Vintage Cars</td>\n",
              "            <td>1:24</td>\n",
              "            <td>Red Start Diecast</td>\n",
              "            <td>This model features grille-mounted chrome horn, lift-up louvered hood, fold-down rumble seat, working steering system and rubber wheels. Color black.</td>\n",
              "            <td>2081</td>\n",
              "            <td>21.75</td>\n",
              "            <td>41.03</td>\n",
              "        </tr>\n",
              "        <tr>\n",
              "            <td>10101</td>\n",
              "            <td>S18_2325</td>\n",
              "            <td>25</td>\n",
              "            <td>108.06</td>\n",
              "            <td>4</td>\n",
              "            <td>S18_2325</td>\n",
              "            <td>1932 Model A Ford J-Coupe</td>\n",
              "            <td>Vintage Cars</td>\n",
              "            <td>1:18</td>\n",
              "            <td>Autoart Studio Design</td>\n",
              "            <td>This model features grille-mounted chrome horn, lift-up louvered hood, fold-down rumble seat, working steering system, chrome-covered spare, opening doors, detailed and wired engine</td>\n",
              "            <td>9354</td>\n",
              "            <td>58.48</td>\n",
              "            <td>127.13</td>\n",
              "        </tr>\n",
              "        <tr>\n",
              "            <td>10101</td>\n",
              "            <td>S18_2795</td>\n",
              "            <td>26</td>\n",
              "            <td>167.06</td>\n",
              "            <td>1</td>\n",
              "            <td>S18_2795</td>\n",
              "            <td>1928 Mercedes-Benz SSK</td>\n",
              "            <td>Vintage Cars</td>\n",
              "            <td>1:18</td>\n",
              "            <td>Gearbox Collectibles</td>\n",
              "            <td>This 1:18 replica features grille-mounted chrome horn, lift-up louvered hood, fold-down rumble seat, working steering system, chrome-covered spare, opening doors, detailed and wired engine. Color black.</td>\n",
              "            <td>548</td>\n",
              "            <td>72.56</td>\n",
              "            <td>168.75</td>\n",
              "        </tr>\n",
              "        <tr>\n",
              "            <td>10101</td>\n",
              "            <td>S24_1937</td>\n",
              "            <td>45</td>\n",
              "            <td>32.53</td>\n",
              "            <td>3</td>\n",
              "            <td>S24_1937</td>\n",
              "            <td>1939 Chevrolet Deluxe Coupe</td>\n",
              "            <td>Vintage Cars</td>\n",
              "            <td>1:24</td>\n",
              "            <td>Motor City Art Classics</td>\n",
              "            <td>This 1:24 scale die-cast replica of the 1939 Chevrolet Deluxe Coupe has the same classy look as the original. Features opening trunk, hood and doors and a showroom quality baked enamel finish.</td>\n",
              "            <td>7332</td>\n",
              "            <td>22.57</td>\n",
              "            <td>33.19</td>\n",
              "        </tr>\n",
              "        <tr>\n",
              "            <td>10101</td>\n",
              "            <td>S24_2022</td>\n",
              "            <td>46</td>\n",
              "            <td>44.35</td>\n",
              "            <td>2</td>\n",
              "            <td>S24_2022</td>\n",
              "            <td>1938 Cadillac V-16 Presidential Limousine</td>\n",
              "            <td>Vintage Cars</td>\n",
              "            <td>1:24</td>\n",
              "            <td>Classic Metal Creations</td>\n",
              "            <td>This 1:24 scale precision die cast replica of the 1938 Cadillac V-16 Presidential Limousine has all the details of the original, from the flags on the front to an opening back seat compartment complete with telephone and rifle. Features factory baked-enamel black finish, hood goddess ornament, working jump seats.</td>\n",
              "            <td>2847</td>\n",
              "            <td>20.61</td>\n",
              "            <td>44.80</td>\n",
              "        </tr>\n",
              "        <tr>\n",
              "            <td>10102</td>\n",
              "            <td>S18_1342</td>\n",
              "            <td>39</td>\n",
              "            <td>95.55</td>\n",
              "            <td>2</td>\n",
              "            <td>S18_1342</td>\n",
              "            <td>1937 Lincoln Berline</td>\n",
              "            <td>Vintage Cars</td>\n",
              "            <td>1:18</td>\n",
              "            <td>Motor City Art Classics</td>\n",
              "            <td>Features opening engine cover, doors, trunk, and fuel filler cap. Color black</td>\n",
              "            <td>8693</td>\n",
              "            <td>60.62</td>\n",
              "            <td>102.74</td>\n",
              "        </tr>\n",
              "        <tr>\n",
              "            <td>10102</td>\n",
              "            <td>S18_1367</td>\n",
              "            <td>41</td>\n",
              "            <td>43.13</td>\n",
              "            <td>1</td>\n",
              "            <td>S18_1367</td>\n",
              "            <td>1936 Mercedes-Benz 500K Special Roadster</td>\n",
              "            <td>Vintage Cars</td>\n",
              "            <td>1:18</td>\n",
              "            <td>Studio M Art Models</td>\n",
              "            <td>This 1:18 scale replica is constructed of heavy die-cast metal and has all the features of the original: working doors and rumble seat, independent spring suspension, detailed interior, working steering system, and a bifold hood that reveals an engine so accurate that it even includes the wiring. All this is topped off with a baked enamel finish. Color white.</td>\n",
              "            <td>8635</td>\n",
              "            <td>24.26</td>\n",
              "            <td>53.91</td>\n",
              "        </tr>\n",
              "    </tbody>\n",
              "</table>"
            ]
          },
          "metadata": {},
          "execution_count": 2
        }
      ]
    },
    {
      "cell_type": "markdown",
      "source": [
        "## **Compared to the Individual Tables:**\n"
      ],
      "metadata": {
        "id": "m9PPSVB_GxB6"
      }
    },
    {
      "cell_type": "markdown",
      "source": [
        "### **`orderdetails` Table:**"
      ],
      "metadata": {
        "id": "040vnhR5G0Zr"
      }
    },
    {
      "cell_type": "markdown",
      "source": [
        "> In the cell below, type the code to select all records from `orderdetails` and display the first `10`"
      ],
      "metadata": {
        "id": "iaH_EPvdG_5w"
      }
    },
    {
      "cell_type": "code",
      "source": [
        "%%sql\n",
        "/*write your code here*/"
      ],
      "metadata": {
        "id": "Ujf-_ljYHBIj"
      },
      "execution_count": null,
      "outputs": []
    },
    {
      "cell_type": "markdown",
      "source": [
        "### **`products` Table:**"
      ],
      "metadata": {
        "id": "kBjdZ3d0HPS1"
      }
    },
    {
      "cell_type": "markdown",
      "source": [
        "> In the cell below, type the code to select all records from `products` and display the first `10`"
      ],
      "metadata": {
        "id": "tRP1uz-3HUnY"
      }
    },
    {
      "cell_type": "code",
      "source": [
        "%%sql\n",
        "/*write your code here*/"
      ],
      "metadata": {
        "id": "yN5JBFmcHVvf"
      },
      "execution_count": null,
      "outputs": []
    },
    {
      "cell_type": "markdown",
      "source": [
        "\n",
        "## **The `USING` clause**"
      ],
      "metadata": {
        "id": "6yIWfwy2HeBT"
      }
    },
    {
      "cell_type": "markdown",
      "source": [
        "A more concise way to join the tables, if the column name is identical, is the `USING` clause. Rather then saying `ON tableA.column = tableB.column` we can simply say `USING(column)`. Again, this only works if the column is **identically named** for both tables.\n",
        "\n",
        "> In the cell below, type the query to select all records in `orderdetails` and `products` and join them on `productCode` with the `USING()` clause, and return the first 10 records:\n"
      ],
      "metadata": {
        "id": "j8gPBxrcHjp1"
      }
    },
    {
      "cell_type": "code",
      "source": [
        "%%sql\n",
        "/*write your code here*/"
      ],
      "metadata": {
        "id": "_0dYAkC-Hp_X"
      },
      "execution_count": null,
      "outputs": []
    }
  ]
}